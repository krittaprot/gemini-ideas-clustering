{
 "cells": [
  {
   "cell_type": "code",
   "execution_count": 3,
   "metadata": {},
   "outputs": [],
   "source": [
    "import pandas as pd\n",
    "\n",
    "# Save the clustered ideas to a new CSV\n",
    "df = pd.read_csv('output/clustered_gmm_gemini_api_app_ideas.csv')"
   ]
  },
  {
   "cell_type": "code",
   "execution_count": 26,
   "metadata": {},
   "outputs": [
    {
     "data": {
      "text/html": [
       "<div>\n",
       "<style scoped>\n",
       "    .dataframe tbody tr th:only-of-type {\n",
       "        vertical-align: middle;\n",
       "    }\n",
       "\n",
       "    .dataframe tbody tr th {\n",
       "        vertical-align: top;\n",
       "    }\n",
       "\n",
       "    .dataframe thead th {\n",
       "        text-align: right;\n",
       "    }\n",
       "</style>\n",
       "<table border=\"1\" class=\"dataframe\">\n",
       "  <thead>\n",
       "    <tr style=\"text-align: right;\">\n",
       "      <th></th>\n",
       "      <th>Title</th>\n",
       "      <th>YouTube Link</th>\n",
       "      <th>brief_desc</th>\n",
       "      <th>Built With</th>\n",
       "      <th>By</th>\n",
       "      <th>Location</th>\n",
       "      <th>cluster</th>\n",
       "    </tr>\n",
       "  </thead>\n",
       "  <tbody>\n",
       "    <tr>\n",
       "      <th>0</th>\n",
       "      <td>Davv AI</td>\n",
       "      <td>https://www.youtube.com/watch?v=6ONuSa48fb4</td>\n",
       "      <td>The application is an AI-powered assistant that simplifies tasks across various operating systems through voice and text interactions, offering features such as natural language command interpretation and executable code generation using the Gemini AI API.</td>\n",
       "      <td>Web/Chrome, google speech recognition</td>\n",
       "      <td>Ali Debbache, abdou guerguer</td>\n",
       "      <td>Algeria</td>\n",
       "      <td>1</td>\n",
       "    </tr>\n",
       "    <tr>\n",
       "      <th>1</th>\n",
       "      <td>DDMD</td>\n",
       "      <td>https://www.youtube.com/watch?v=BxzJcNyZNEw</td>\n",
       "      <td>The application uses a Random Forest-based model to classify digital drug music from audio files, leveraging 34 features extracted from these files and trained on 3,176 non-copyrighted MP3 files. The model is used in a web application that provides an intuitive interface for users to upload or enter YouTube URLs of audio files to be classified.</td>\n",
       "      <td>Web/Chrome, Google Colab, Google Slides, Google Sppech-to-Text AI</td>\n",
       "      <td>NaN</td>\n",
       "      <td>Algeria</td>\n",
       "      <td>0</td>\n",
       "    </tr>\n",
       "    <tr>\n",
       "      <th>2</th>\n",
       "      <td>Elfelah</td>\n",
       "      <td>https://www.youtube.com/watch?v=FCaPwgGfqe4</td>\n",
       "      <td>The application provides real-time disease diagnosis, crop management strategies, and actionable insights to farmers through an AI-powered system that uses external data and machine learning models.</td>\n",
       "      <td>Web/Chrome</td>\n",
       "      <td>Elfelah</td>\n",
       "      <td>Algeria</td>\n",
       "      <td>0</td>\n",
       "    </tr>\n",
       "    <tr>\n",
       "      <th>3</th>\n",
       "      <td>FormBlueprint</td>\n",
       "      <td>https://www.youtube.com/watch?v=xUN-rOcofdE</td>\n",
       "      <td>The application uses FormBlueprint to create a conversational experience for businesses, educators, and researchers by generating form fields and sections with validation and branching logic, and then analyzing data through conversation to gain insights.</td>\n",
       "      <td>Web/Chrome, Google Drive, Google Auth</td>\n",
       "      <td>Mohamed Boudelaa, Amina Daoud</td>\n",
       "      <td>Algeria</td>\n",
       "      <td>0</td>\n",
       "    </tr>\n",
       "    <tr>\n",
       "      <th>4</th>\n",
       "      <td>GeoGemini</td>\n",
       "      <td>https://www.youtube.com/watch?v=lfnIxOIv0T4</td>\n",
       "      <td>The application uses satellite imagery to analyze environmental changes, comparing images to detect trends and identify key features. It leverages advanced AI capabilities from the Gemini API to provide detailed insights and high-level analysis for research, education, and sustainability efforts.</td>\n",
       "      <td>Web/Chrome, Firebase</td>\n",
       "      <td>Ahmane Oussama</td>\n",
       "      <td>Algeria</td>\n",
       "      <td>1</td>\n",
       "    </tr>\n",
       "  </tbody>\n",
       "</table>\n",
       "</div>"
      ],
      "text/plain": [
       "           Title                                 YouTube Link  \\\n",
       "0        Davv AI  https://www.youtube.com/watch?v=6ONuSa48fb4   \n",
       "1           DDMD  https://www.youtube.com/watch?v=BxzJcNyZNEw   \n",
       "2        Elfelah  https://www.youtube.com/watch?v=FCaPwgGfqe4   \n",
       "3  FormBlueprint  https://www.youtube.com/watch?v=xUN-rOcofdE   \n",
       "4      GeoGemini  https://www.youtube.com/watch?v=lfnIxOIv0T4   \n",
       "\n",
       "                                                                                                                                                                                                                                                                                                                                                   brief_desc  \\\n",
       "0                                                                                            The application is an AI-powered assistant that simplifies tasks across various operating systems through voice and text interactions, offering features such as natural language command interpretation and executable code generation using the Gemini AI API.   \n",
       "1  The application uses a Random Forest-based model to classify digital drug music from audio files, leveraging 34 features extracted from these files and trained on 3,176 non-copyrighted MP3 files. The model is used in a web application that provides an intuitive interface for users to upload or enter YouTube URLs of audio files to be classified.   \n",
       "2                                                                                                                                                      The application provides real-time disease diagnosis, crop management strategies, and actionable insights to farmers through an AI-powered system that uses external data and machine learning models.   \n",
       "3                                                                                              The application uses FormBlueprint to create a conversational experience for businesses, educators, and researchers by generating form fields and sections with validation and branching logic, and then analyzing data through conversation to gain insights.   \n",
       "4                                                   The application uses satellite imagery to analyze environmental changes, comparing images to detect trends and identify key features. It leverages advanced AI capabilities from the Gemini API to provide detailed insights and high-level analysis for research, education, and sustainability efforts.   \n",
       "\n",
       "                                                          Built With  \\\n",
       "0                              Web/Chrome, google speech recognition   \n",
       "1  Web/Chrome, Google Colab, Google Slides, Google Sppech-to-Text AI   \n",
       "2                                                         Web/Chrome   \n",
       "3                              Web/Chrome, Google Drive, Google Auth   \n",
       "4                                               Web/Chrome, Firebase   \n",
       "\n",
       "                              By Location  cluster  \n",
       "0   Ali Debbache, abdou guerguer  Algeria        1  \n",
       "1                            NaN  Algeria        0  \n",
       "2                        Elfelah  Algeria        0  \n",
       "3  Mohamed Boudelaa, Amina Daoud  Algeria        0  \n",
       "4                 Ahmane Oussama  Algeria        1  "
      ]
     },
     "execution_count": 26,
     "metadata": {},
     "output_type": "execute_result"
    }
   ],
   "source": [
    "df.head()"
   ]
  },
  {
   "cell_type": "code",
   "execution_count": 6,
   "metadata": {},
   "outputs": [],
   "source": [
    "def count_tokens_per_cluster(df, column='brief_desc', cluster_column='cluster'):\n",
    "    \"\"\"\n",
    "    Count the number of tokens and concatenate strings in the specified column for each cluster in the DataFrame.\n",
    "\n",
    "    Parameters:\n",
    "    - df: DataFrame containing the data.\n",
    "    - column: The column name to concatenate and count tokens from.\n",
    "    - cluster_column: The column name representing clusters.\n",
    "\n",
    "    Returns:\n",
    "    - A DataFrame with cluster labels, concatenated strings, token counts, and cluster group numbers.\n",
    "    \"\"\"\n",
    "    results = []\n",
    "\n",
    "    # Get unique clusters\n",
    "    unique_clusters = df[cluster_column].unique()\n",
    "\n",
    "    for cluster in unique_clusters:\n",
    "        # Filter for rows where the cluster matches the current cluster\n",
    "        filtered_df = df[df[cluster_column] == cluster]\n",
    "        \n",
    "        # Concatenate all the content from the specified column into a single string\n",
    "        concatenated_string = \" \".join(filtered_df[column].values)\n",
    "        \n",
    "        # Count the number of tokens in the concatenated string\n",
    "        token_count = len(concatenated_string.split())\n",
    "        \n",
    "        # Append the results as a dictionary\n",
    "        results.append({\n",
    "            cluster_column: cluster,\n",
    "            'concat_ideas': concatenated_string,\n",
    "            'token_counts': token_count,\n",
    "        })\n",
    "\n",
    "    # Convert results to a DataFrame\n",
    "    result_df = pd.DataFrame(results)\n",
    "    return result_df\n",
    "\n",
    "# Example usage:\n",
    "result_df = count_tokens_per_cluster(df)"
   ]
  },
  {
   "cell_type": "code",
   "execution_count": 9,
   "metadata": {},
   "outputs": [],
   "source": [
    "import getpass\n",
    "import os\n",
    "\n",
    "if \"GOOGLE_API_KEY\" not in os.environ:\n",
    "    os.environ[\"GOOGLE_API_KEY\"] = getpass.getpass(\"Enter your Google AI API key: \")"
   ]
  },
  {
   "cell_type": "code",
   "execution_count": 14,
   "metadata": {},
   "outputs": [],
   "source": [
    "from langchain_ollama import ChatOllama\n",
    "from langchain_google_genai import ChatGoogleGenerativeAI\n",
    "from langchain_core.prompts import ChatPromptTemplate\n",
    "\n",
    "# Initialize the Ollama model\n",
    "local_model = ChatOllama(\n",
    "    model=\"llama3.2:3b-instruct-q8_0\",\n",
    "    temperature=0.2,\n",
    ")\n",
    "\n",
    "gemini_model = ChatGoogleGenerativeAI(\n",
    "    model=\"gemini-1.5-flash\",\n",
    "    temperature=0.2,\n",
    "    max_tokens=50,\n",
    "    timeout=None,\n",
    "    max_retries=2,\n",
    "    # other params...\n",
    ")\n",
    "\n",
    "system_prompt = \"\"\"\n",
    "                Gemini API Application Ideas: {concat_ideas}\n",
    "                You are a helpful assistant that captures the main theme found in description of the provided Gemini API Application Ideas and describe those themes in a single paragraph in less than 3 sentences.\n",
    "                \"\"\"\n",
    "\n",
    "input = \"Tell me the theme you found from the provided ideas in a single paragraph.\"\n",
    "\n",
    "prompt = ChatPromptTemplate.from_messages(\n",
    "    [\n",
    "        (\n",
    "            \"system\",\n",
    "            system_prompt,\n",
    "        ),\n",
    "        (\"human\", \"{input}\"),\n",
    "    ]\n",
    ")\n",
    "\n",
    "chain = prompt | gemini_model"
   ]
  },
  {
   "cell_type": "code",
   "execution_count": 16,
   "metadata": {},
   "outputs": [
    {
     "name": "stdout",
     "output_type": "stream",
     "text": [
      "Summarization for cluster 0 is successful.\n",
      "Summarization for cluster 1 is successful.\n"
     ]
    }
   ],
   "source": [
    "import time\n",
    "\n",
    "# Initialize the summary column\n",
    "result_df['summary'] = None\n",
    "\n",
    "cluster_num = len(result_df)\n",
    "\n",
    "# Loop through all clusters\n",
    "for cluster_index in range(cluster_num):\n",
    "    concat_ideas = result_df['concat_ideas'][cluster_index][:]\n",
    "    \n",
    "    # Invoke the model with the current concat_ideas\n",
    "    output = chain.invoke(\n",
    "        {\n",
    "            \"concat_ideas\": concat_ideas,\n",
    "            \"input\": input,  # Ensure 'input' is defined earlier in your code\n",
    "        }\n",
    "    )\n",
    "    \n",
    "    # Store the output in the summary column\n",
    "    result_df.at[cluster_index, 'summary'] = output.content\n",
    "    \n",
    "    # Print a success message\n",
    "    print(f\"Summarization for cluster {cluster_index} is successful.\")\n",
    "    \n",
    "    # Hold for 2 seconds before continuing\n",
    "    time.sleep(2)"
   ]
  },
  {
   "cell_type": "code",
   "execution_count": 17,
   "metadata": {},
   "outputs": [],
   "source": [
    "result_df.to_csv(\"output/clusters_summary.csv\")"
   ]
  },
  {
   "cell_type": "code",
   "execution_count": 19,
   "metadata": {},
   "outputs": [
    {
     "data": {
      "text/html": [
       "<div>\n",
       "<style scoped>\n",
       "    .dataframe tbody tr th:only-of-type {\n",
       "        vertical-align: middle;\n",
       "    }\n",
       "\n",
       "    .dataframe tbody tr th {\n",
       "        vertical-align: top;\n",
       "    }\n",
       "\n",
       "    .dataframe thead th {\n",
       "        text-align: right;\n",
       "    }\n",
       "</style>\n",
       "<table border=\"1\" class=\"dataframe\">\n",
       "  <thead>\n",
       "    <tr style=\"text-align: right;\">\n",
       "      <th></th>\n",
       "      <th>cluster</th>\n",
       "      <th>summary</th>\n",
       "    </tr>\n",
       "  </thead>\n",
       "  <tbody>\n",
       "    <tr>\n",
       "      <th>0</th>\n",
       "      <td>1</td>\n",
       "      <td>The Gemini API application ideas showcase a wide range of potential uses for this powerful AI technology, with a strong emphasis on personalization and user-centric experiences.  Many of the ideas focus on enhancing productivity, learning, and communication through conversational interfaces, intelligent automation, and tailored recommendations.  Whether it's simplifying complex tasks, providing personalized support, or creating engaging learning experiences, these applications demonstrate the transformative potential of Gemini AI across diverse fields. \\n</td>\n",
       "    </tr>\n",
       "    <tr>\n",
       "      <th>1</th>\n",
       "      <td>0</td>\n",
       "      <td>The provided Gemini API application ideas showcase a strong theme of using AI to enhance and personalize various aspects of daily life. From education and healthcare to productivity and entertainment, these applications aim to leverage AI's capabilities to simplify tasks, provide personalized recommendations, and improve user experiences across a wide range of domains. The focus is on creating tools that are both innovative and user-friendly, making AI accessible and beneficial for individuals and businesses alike. \\n</td>\n",
       "    </tr>\n",
       "  </tbody>\n",
       "</table>\n",
       "</div>"
      ],
      "text/plain": [
       "   cluster  \\\n",
       "0        1   \n",
       "1        0   \n",
       "\n",
       "                                                                                                                                                                                                                                                                                                                                                                                                                                                                                                                                                                             summary  \n",
       "0  The Gemini API application ideas showcase a wide range of potential uses for this powerful AI technology, with a strong emphasis on personalization and user-centric experiences.  Many of the ideas focus on enhancing productivity, learning, and communication through conversational interfaces, intelligent automation, and tailored recommendations.  Whether it's simplifying complex tasks, providing personalized support, or creating engaging learning experiences, these applications demonstrate the transformative potential of Gemini AI across diverse fields. \\n  \n",
       "1                                        The provided Gemini API application ideas showcase a strong theme of using AI to enhance and personalize various aspects of daily life. From education and healthcare to productivity and entertainment, these applications aim to leverage AI's capabilities to simplify tasks, provide personalized recommendations, and improve user experiences across a wide range of domains. The focus is on creating tools that are both innovative and user-friendly, making AI accessible and beneficial for individuals and businesses alike. \\n  "
      ]
     },
     "execution_count": 19,
     "metadata": {},
     "output_type": "execute_result"
    }
   ],
   "source": [
    "pd.options.display.max_colwidth = 1000\n",
    "\n",
    "result_df = pd.read_csv(\"output/clusters_summary.csv\")\n",
    "\n",
    "result_df[['cluster','summary']]"
   ]
  },
  {
   "cell_type": "code",
   "execution_count": 20,
   "metadata": {},
   "outputs": [
    {
     "name": "stdout",
     "output_type": "stream",
     "text": [
      "Cluster 1, Description: The Gemini API application ideas showcase a wide range of potential uses for this powerful AI technology, with a strong emphasis on personalization and user-centric experiences.  Many of the ideas focus on enhancing productivity, learning, and communication through conversational interfaces, intelligent automation, and tailored recommendations.  Whether it's simplifying complex tasks, providing personalized support, or creating engaging learning experiences, these applications demonstrate the transformative potential of Gemini AI across diverse fields. \n",
      "\n",
      "Cluster 0, Description: The provided Gemini API application ideas showcase a strong theme of using AI to enhance and personalize various aspects of daily life. From education and healthcare to productivity and entertainment, these applications aim to leverage AI's capabilities to simplify tasks, provide personalized recommendations, and improve user experiences across a wide range of domains. The focus is on creating tools that are both innovative and user-friendly, making AI accessible and beneficial for individuals and businesses alike. \n",
      "\n",
      "\n"
     ]
    }
   ],
   "source": [
    "# Create a concatenated text with numbered summaries\n",
    "concatenated_text = \"\"\n",
    "clusters = result_df['cluster'].unique()  # Get unique clusters\n",
    "\n",
    "for cluster in clusters:\n",
    "    # Filter summaries for the current cluster\n",
    "    summaries = result_df[result_df['cluster'] == cluster]['summary'].tolist()\n",
    "    \n",
    "    for i, summary in enumerate(summaries, start=1):\n",
    "        concatenated_text += f\"Cluster {cluster}, Description: {summary}\\n\"\n",
    "\n",
    "# Print or return the concatenated text\n",
    "print(concatenated_text)"
   ]
  },
  {
   "cell_type": "code",
   "execution_count": 21,
   "metadata": {},
   "outputs": [],
   "source": [
    "with open('output/cluster_individual_desc.txt', 'w+') as text_file:\n",
    "    text_file.write(concatenated_text)"
   ]
  },
  {
   "cell_type": "code",
   "execution_count": 27,
   "metadata": {},
   "outputs": [
    {
     "name": "stdout",
     "output_type": "stream",
     "text": [
      "Both clusters highlight the potential of Gemini API applications to enhance and personalize various aspects of daily life.  Cluster 1 emphasizes the focus on user-centric experiences, particularly through conversational interfaces, intelligent automation, and tailored recommendations.  Cluster 0, while also acknowledging personalization, emphasizes the broader goal of making AI accessible and beneficial across diverse domains, including education, healthcare, productivity, and entertainment.  Both clusters ultimately showcase the transformative potential of Gemini AI to simplify tasks, improve user experiences, and create innovative tools for individuals and businesses alike. \n",
      "\n"
     ]
    }
   ],
   "source": [
    "system_prompt = \"\"\"\n",
    "                Clusters Description: {concatenated_text}\n",
    "                You are a helpful assistant that summarizes the provided summary into a single paragraph in less than 3 sentences.\n",
    "                \"\"\"\n",
    "\n",
    "input = \"Provide me with an executive summary of the similarities and differences among each cluster's explanation in a single paragraph.\"\n",
    "\n",
    "prompt = ChatPromptTemplate.from_messages(\n",
    "    [\n",
    "        (\n",
    "            \"system\",\n",
    "            system_prompt,\n",
    "        ),\n",
    "        (\"human\", \"{input}\"),\n",
    "    ]\n",
    ")\n",
    "\n",
    "chain = prompt | gemini_model\n",
    "\n",
    "# Invoke the model with the current concatenated_text\n",
    "output = chain.invoke(\n",
    "    {\n",
    "        \"concatenated_text\": concatenated_text,  # Ensure this variable is defined and holds the correct value\n",
    "        \"input\": input,\n",
    "    }\n",
    ")\n",
    "\n",
    "print(output.content)"
   ]
  },
  {
   "cell_type": "code",
   "execution_count": 28,
   "metadata": {},
   "outputs": [
    {
     "name": "stdout",
     "output_type": "stream",
     "text": [
      "('Both clusters highlight the potential of Gemini API applications to enhance and personalize various aspects of daily '\n",
      " 'life.  Cluster 1 emphasizes the focus on user-centric experiences, particularly through conversational interfaces, '\n",
      " 'intelligent automation, and tailored recommendations.  Cluster 0, while also acknowledging personalization, '\n",
      " 'emphasizes the broader goal of making AI accessible and beneficial across diverse domains, including education, '\n",
      " 'healthcare, productivity, and entertainment.  Both clusters ultimately showcase the transformative potential of '\n",
      " 'Gemini AI to simplify tasks, improve user experiences, and create innovative tools for individuals and businesses '\n",
      " 'alike. \\n')\n"
     ]
    }
   ],
   "source": [
    "import pprint\n",
    "\n",
    "pp = pprint.PrettyPrinter(width=120, compact=True)\n",
    "pp.pprint(output.content)"
   ]
  },
  {
   "cell_type": "code",
   "execution_count": 29,
   "metadata": {},
   "outputs": [],
   "source": [
    "with open('output/final_summary.txt', 'w+') as text_file:\n",
    "    text_file.write(output.content)"
   ]
  }
 ],
 "metadata": {
  "kernelspec": {
   "display_name": ".venv",
   "language": "python",
   "name": "python3"
  },
  "language_info": {
   "codemirror_mode": {
    "name": "ipython",
    "version": 3
   },
   "file_extension": ".py",
   "mimetype": "text/x-python",
   "name": "python",
   "nbconvert_exporter": "python",
   "pygments_lexer": "ipython3",
   "version": "3.12.6"
  }
 },
 "nbformat": 4,
 "nbformat_minor": 2
}
